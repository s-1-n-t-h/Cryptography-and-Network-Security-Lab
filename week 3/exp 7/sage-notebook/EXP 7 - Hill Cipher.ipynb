{
 "cells": [
  {
   "cell_type": "code",
   "execution_count": 2,
   "id": "3988eb2d",
   "metadata": {},
   "outputs": [],
   "source": [
    "import string"
   ]
  },
  {
   "cell_type": "code",
   "execution_count": 4,
   "id": "841af927",
   "metadata": {},
   "outputs": [],
   "source": [
    "alphabets = string.ascii_uppercase"
   ]
  },
  {
   "cell_type": "code",
   "execution_count": 19,
   "id": "03d3d5c1",
   "metadata": {},
   "outputs": [
    {
     "data": {
      "text/plain": [
       "'ABCDEFGHIJKLMNOPQRSTUVWXYZ'"
      ]
     },
     "execution_count": 19,
     "metadata": {},
     "output_type": "execute_result"
    }
   ],
   "source": [
    "alphabets"
   ]
  },
  {
   "cell_type": "code",
   "execution_count": 7,
   "id": "1b2ecbe9",
   "metadata": {},
   "outputs": [],
   "source": [
    "indexes = list(range(0,26))"
   ]
  },
  {
   "cell_type": "code",
   "execution_count": 21,
   "id": "41bbd5dc",
   "metadata": {},
   "outputs": [],
   "source": [
    "alphaHash = {key:value for key,value in zip(list(alphabets),indexes)}"
   ]
  },
  {
   "cell_type": "code",
   "execution_count": 22,
   "id": "0e960e63",
   "metadata": {},
   "outputs": [
    {
     "data": {
      "text/plain": [
       "{'A': 0,\n",
       " 'B': 1,\n",
       " 'C': 2,\n",
       " 'D': 3,\n",
       " 'E': 4,\n",
       " 'F': 5,\n",
       " 'G': 6,\n",
       " 'H': 7,\n",
       " 'I': 8,\n",
       " 'J': 9,\n",
       " 'K': 10,\n",
       " 'L': 11,\n",
       " 'M': 12,\n",
       " 'N': 13,\n",
       " 'O': 14,\n",
       " 'P': 15,\n",
       " 'Q': 16,\n",
       " 'R': 17,\n",
       " 'S': 18,\n",
       " 'T': 19,\n",
       " 'U': 20,\n",
       " 'V': 21,\n",
       " 'W': 22,\n",
       " 'X': 23,\n",
       " 'Y': 24,\n",
       " 'Z': 25}"
      ]
     },
     "execution_count": 22,
     "metadata": {},
     "output_type": "execute_result"
    }
   ],
   "source": [
    "alphaHash"
   ]
  },
  {
   "cell_type": "code",
   "execution_count": null,
   "id": "dd6ed51d",
   "metadata": {},
   "outputs": [],
   "source": [
    "text = input('Enter Text: ')\n",
    "key = input('Enter Key: ')"
   ]
  }
 ],
 "metadata": {
  "kernelspec": {
   "display_name": "SageMath 9.7",
   "language": "sage",
   "name": "sagemath-9.7"
  },
  "language_info": {
   "codemirror_mode": {
    "name": "ipython",
    "version": 3
   },
   "file_extension": ".py",
   "mimetype": "text/x-python",
   "name": "python",
   "nbconvert_exporter": "python",
   "pygments_lexer": "ipython3",
   "version": "3.10.5"
  }
 },
 "nbformat": 4,
 "nbformat_minor": 5
}
