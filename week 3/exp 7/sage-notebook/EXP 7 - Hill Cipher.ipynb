{
 "cells": [
  {
   "cell_type": "code",
   "execution_count": 1,
   "id": "bd1f2dc8",
   "metadata": {},
   "outputs": [],
   "source": [
    "import string"
   ]
  },
  {
   "cell_type": "code",
   "execution_count": 2,
   "id": "0bb85e65",
   "metadata": {},
   "outputs": [],
   "source": [
    "alphabets = string.ascii_uppercase"
   ]
  },
  {
   "cell_type": "code",
   "execution_count": 3,
   "id": "e08008ed",
   "metadata": {},
   "outputs": [
    {
     "data": {
      "text/plain": [
       "'ABCDEFGHIJKLMNOPQRSTUVWXYZ'"
      ]
     },
     "execution_count": 3,
     "metadata": {},
     "output_type": "execute_result"
    }
   ],
   "source": [
    "alphabets"
   ]
  },
  {
   "cell_type": "code",
   "execution_count": 4,
   "id": "fa178759",
   "metadata": {},
   "outputs": [],
   "source": [
    "indexes = list(range(0,26))"
   ]
  },
  {
   "cell_type": "code",
   "execution_count": 5,
   "id": "0e6d011b",
   "metadata": {},
   "outputs": [],
   "source": [
    "alphaHash = {key:value for key,value in zip(list(alphabets),indexes)}"
   ]
  },
  {
   "cell_type": "code",
   "execution_count": 6,
   "id": "78b7c04e",
   "metadata": {},
   "outputs": [
    {
     "ename": "KeyboardInterrupt",
     "evalue": "Interrupted by user",
     "output_type": "error",
     "traceback": [
      "\u001b[0;31m---------------------------------------------------------------------------\u001b[0m",
      "\u001b[0;31mKeyboardInterrupt\u001b[0m                         Traceback (most recent call last)",
      "Cell \u001b[0;32mIn [6], line 1\u001b[0m\n\u001b[0;32m----> 1\u001b[0m text \u001b[38;5;241m=\u001b[39m \u001b[38;5;28minput\u001b[39m(\u001b[38;5;124m'\u001b[39m\u001b[38;5;124mEnter Text: \u001b[39m\u001b[38;5;124m'\u001b[39m)\n\u001b[1;32m      2\u001b[0m key \u001b[38;5;241m=\u001b[39m \u001b[38;5;28minput\u001b[39m(\u001b[38;5;124m'\u001b[39m\u001b[38;5;124mEnter Key: \u001b[39m\u001b[38;5;124m'\u001b[39m)\n\u001b[1;32m      4\u001b[0m textLength \u001b[38;5;241m=\u001b[39m \u001b[38;5;28mlen\u001b[39m(text)\n",
      "File \u001b[0;32m~/opt/miniconda3/envs/tensorflow/lib/python3.9/site-packages/ipykernel/kernelbase.py:1177\u001b[0m, in \u001b[0;36mKernel.raw_input\u001b[0;34m(self, prompt)\u001b[0m\n\u001b[1;32m   <a href='file:///Users/venkatasaiyaswanthbattu/opt/miniconda3/envs/tensorflow/lib/python3.9/site-packages/ipykernel/kernelbase.py?line=1172'>1173</a>\u001b[0m \u001b[39mif\u001b[39;00m \u001b[39mnot\u001b[39;00m \u001b[39mself\u001b[39m\u001b[39m.\u001b[39m_allow_stdin:\n\u001b[1;32m   <a href='file:///Users/venkatasaiyaswanthbattu/opt/miniconda3/envs/tensorflow/lib/python3.9/site-packages/ipykernel/kernelbase.py?line=1173'>1174</a>\u001b[0m     \u001b[39mraise\u001b[39;00m StdinNotImplementedError(\n\u001b[1;32m   <a href='file:///Users/venkatasaiyaswanthbattu/opt/miniconda3/envs/tensorflow/lib/python3.9/site-packages/ipykernel/kernelbase.py?line=1174'>1175</a>\u001b[0m         \u001b[39m\"\u001b[39m\u001b[39mraw_input was called, but this frontend does not support input requests.\u001b[39m\u001b[39m\"\u001b[39m\n\u001b[1;32m   <a href='file:///Users/venkatasaiyaswanthbattu/opt/miniconda3/envs/tensorflow/lib/python3.9/site-packages/ipykernel/kernelbase.py?line=1175'>1176</a>\u001b[0m     )\n\u001b[0;32m-> <a href='file:///Users/venkatasaiyaswanthbattu/opt/miniconda3/envs/tensorflow/lib/python3.9/site-packages/ipykernel/kernelbase.py?line=1176'>1177</a>\u001b[0m \u001b[39mreturn\u001b[39;00m \u001b[39mself\u001b[39;49m\u001b[39m.\u001b[39;49m_input_request(\n\u001b[1;32m   <a href='file:///Users/venkatasaiyaswanthbattu/opt/miniconda3/envs/tensorflow/lib/python3.9/site-packages/ipykernel/kernelbase.py?line=1177'>1178</a>\u001b[0m     \u001b[39mstr\u001b[39;49m(prompt),\n\u001b[1;32m   <a href='file:///Users/venkatasaiyaswanthbattu/opt/miniconda3/envs/tensorflow/lib/python3.9/site-packages/ipykernel/kernelbase.py?line=1178'>1179</a>\u001b[0m     \u001b[39mself\u001b[39;49m\u001b[39m.\u001b[39;49m_parent_ident[\u001b[39m\"\u001b[39;49m\u001b[39mshell\u001b[39;49m\u001b[39m\"\u001b[39;49m],\n\u001b[1;32m   <a href='file:///Users/venkatasaiyaswanthbattu/opt/miniconda3/envs/tensorflow/lib/python3.9/site-packages/ipykernel/kernelbase.py?line=1179'>1180</a>\u001b[0m     \u001b[39mself\u001b[39;49m\u001b[39m.\u001b[39;49mget_parent(\u001b[39m\"\u001b[39;49m\u001b[39mshell\u001b[39;49m\u001b[39m\"\u001b[39;49m),\n\u001b[1;32m   <a href='file:///Users/venkatasaiyaswanthbattu/opt/miniconda3/envs/tensorflow/lib/python3.9/site-packages/ipykernel/kernelbase.py?line=1180'>1181</a>\u001b[0m     password\u001b[39m=\u001b[39;49m\u001b[39mFalse\u001b[39;49;00m,\n\u001b[1;32m   <a href='file:///Users/venkatasaiyaswanthbattu/opt/miniconda3/envs/tensorflow/lib/python3.9/site-packages/ipykernel/kernelbase.py?line=1181'>1182</a>\u001b[0m )\n",
      "File \u001b[0;32m~/opt/miniconda3/envs/tensorflow/lib/python3.9/site-packages/ipykernel/kernelbase.py:1219\u001b[0m, in \u001b[0;36mKernel._input_request\u001b[0;34m(self, prompt, ident, parent, password)\u001b[0m\n\u001b[1;32m   <a href='file:///Users/venkatasaiyaswanthbattu/opt/miniconda3/envs/tensorflow/lib/python3.9/site-packages/ipykernel/kernelbase.py?line=1215'>1216</a>\u001b[0m             \u001b[39mbreak\u001b[39;00m\n\u001b[1;32m   <a href='file:///Users/venkatasaiyaswanthbattu/opt/miniconda3/envs/tensorflow/lib/python3.9/site-packages/ipykernel/kernelbase.py?line=1216'>1217</a>\u001b[0m \u001b[39mexcept\u001b[39;00m \u001b[39mKeyboardInterrupt\u001b[39;00m:\n\u001b[1;32m   <a href='file:///Users/venkatasaiyaswanthbattu/opt/miniconda3/envs/tensorflow/lib/python3.9/site-packages/ipykernel/kernelbase.py?line=1217'>1218</a>\u001b[0m     \u001b[39m# re-raise KeyboardInterrupt, to truncate traceback\u001b[39;00m\n\u001b[0;32m-> <a href='file:///Users/venkatasaiyaswanthbattu/opt/miniconda3/envs/tensorflow/lib/python3.9/site-packages/ipykernel/kernelbase.py?line=1218'>1219</a>\u001b[0m     \u001b[39mraise\u001b[39;00m \u001b[39mKeyboardInterrupt\u001b[39;00m(\u001b[39m\"\u001b[39m\u001b[39mInterrupted by user\u001b[39m\u001b[39m\"\u001b[39m) \u001b[39mfrom\u001b[39;00m \u001b[39mNone\u001b[39m\n\u001b[1;32m   <a href='file:///Users/venkatasaiyaswanthbattu/opt/miniconda3/envs/tensorflow/lib/python3.9/site-packages/ipykernel/kernelbase.py?line=1219'>1220</a>\u001b[0m \u001b[39mexcept\u001b[39;00m \u001b[39mException\u001b[39;00m:\n\u001b[1;32m   <a href='file:///Users/venkatasaiyaswanthbattu/opt/miniconda3/envs/tensorflow/lib/python3.9/site-packages/ipykernel/kernelbase.py?line=1220'>1221</a>\u001b[0m     \u001b[39mself\u001b[39m\u001b[39m.\u001b[39mlog\u001b[39m.\u001b[39mwarning(\u001b[39m\"\u001b[39m\u001b[39mInvalid Message:\u001b[39m\u001b[39m\"\u001b[39m, exc_info\u001b[39m=\u001b[39m\u001b[39mTrue\u001b[39;00m)\n",
      "\u001b[0;31mKeyboardInterrupt\u001b[0m: Interrupted by user"
     ]
    }
   ],
   "source": [
    "\n",
    "text = input('Enter Text: ')\n",
    "key = input('Enter Key: ')\n",
    "\n",
    "textLength = len(text)\n",
    "keyLength = len(key)\n",
    "\n",
    "textMatrix = []\n",
    "keyMatrix = [] \n",
    "\n",
    "for i in range(textLength):\n",
    "    textMatrix.append(alphaHash[text[i].upper()])\n",
    "    \n",
    "for i in range(keyLength):\n",
    "    keyMatrix.append(alphaHash[key[i].upper()])\n",
    "    \n",
    "NewkeyMatrix = matrix(textLength,textLength,keyMatrix)\n",
    "textMatrix = vector(textMatrix)\n",
    "\n",
    "cipherMatrix = (NewkeyMatrix*textMatrix)%26\n",
    "cipherList = list(cipherMatrix)\n",
    "\n",
    "cipherText =  ''.join((list(map(lambda x: chr(x+65),cipherList))))\n",
    "\n",
    "print('Cipher Text Generated using Hill Cipher Algorithm is:',cipherText)\n",
    "    "
   ]
  },
  {
   "cell_type": "code",
   "execution_count": null,
   "id": "9109cccf",
   "metadata": {},
   "outputs": [],
   "source": []
  }
 ],
 "metadata": {
  "interpreter": {
   "hash": "9039ffaa441cdf0b8ef4cf5109f6ed9fbdc2903ec5a3d95939e636fb5ec3d92c"
  },
  "kernelspec": {
   "display_name": "SageMath 9.7",
   "language": "sage",
   "name": "sagemath-9.7"
  },
  "language_info": {
   "codemirror_mode": {
    "name": "ipython",
    "version": 3
   },
   "file_extension": ".py",
   "mimetype": "text/x-python",
   "name": "python",
   "nbconvert_exporter": "python",
   "pygments_lexer": "ipython3",
   "version": "3.9.12"
  }
 },
 "nbformat": 4,
 "nbformat_minor": 5
}
