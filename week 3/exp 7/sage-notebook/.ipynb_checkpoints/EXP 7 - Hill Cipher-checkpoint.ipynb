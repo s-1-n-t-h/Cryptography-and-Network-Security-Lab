{
 "cells": [
  {
   "cell_type": "code",
   "execution_count": 1,
   "id": "bd1f2dc8",
   "metadata": {},
   "outputs": [],
   "source": [
    "import string"
   ]
  },
  {
   "cell_type": "code",
   "execution_count": 2,
   "id": "0bb85e65",
   "metadata": {},
   "outputs": [],
   "source": [
    "alphabets = string.ascii_uppercase"
   ]
  },
  {
   "cell_type": "code",
   "execution_count": 3,
   "id": "e08008ed",
   "metadata": {},
   "outputs": [
    {
     "data": {
      "text/plain": [
       "'ABCDEFGHIJKLMNOPQRSTUVWXYZ'"
      ]
     },
     "execution_count": 3,
     "metadata": {},
     "output_type": "execute_result"
    }
   ],
   "source": [
    "alphabets"
   ]
  },
  {
   "cell_type": "code",
   "execution_count": 4,
   "id": "fa178759",
   "metadata": {},
   "outputs": [],
   "source": [
    "indexes = list(range(0,26))"
   ]
  },
  {
   "cell_type": "code",
   "execution_count": 5,
   "id": "0e6d011b",
   "metadata": {},
   "outputs": [],
   "source": [
    "alphaHash = {key:value for key,value in zip(list(alphabets),indexes)}"
   ]
  },
  {
   "cell_type": "code",
   "execution_count": 54,
   "id": "78b7c04e",
   "metadata": {},
   "outputs": [
    {
     "name": "stdout",
     "output_type": "stream",
     "text": [
      "Enter Text: he\n",
      "Enter Key: hell\n",
      "Cipher Text Generated using Hill Cipher Algorithm is: NR\n"
     ]
    }
   ],
   "source": [
    "\n",
    "text = input('Enter Text: ')\n",
    "key = input('Enter Key: ')\n",
    "\n",
    "textLength = len(text)\n",
    "keyLength = len(key)\n",
    "\n",
    "textMatrix = []\n",
    "keyMatrix = [] \n",
    "\n",
    "for i in range(textLength):\n",
    "    textMatrix.append(alphaHash[text[i].upper()])\n",
    "    \n",
    "for i in range(keyLength):\n",
    "    keyMatrix.append(alphaHash[key[i].upper()])\n",
    "    \n",
    "NewkeyMatrix = matrix(textLength,textLength,keyMatrix)\n",
    "textMatrix = vector(textMatrix)\n",
    "\n",
    "cipherMatrix = (NewkeyMatrix*textMatrix)%26\n",
    "cipherList = list(cipherMatrix)\n",
    "\n",
    "cipherText =  ''.join((list(map(lambda x: chr(x+65),cipherList))))\n",
    "\n",
    "print('Cipher Text Generated using Hill Cipher Algorithm is:',cipherText)\n",
    "    "
   ]
  },
  {
   "cell_type": "code",
   "execution_count": null,
   "id": "9109cccf",
   "metadata": {},
   "outputs": [],
   "source": []
  }
 ],
 "metadata": {
  "kernelspec": {
   "display_name": "SageMath 9.7",
   "language": "sage",
   "name": "sagemath-9.7"
  },
  "language_info": {
   "codemirror_mode": {
    "name": "ipython",
    "version": 3
   },
   "file_extension": ".py",
   "mimetype": "text/x-python",
   "name": "python",
   "nbconvert_exporter": "python",
   "pygments_lexer": "ipython3",
   "version": "3.10.5"
  }
 },
 "nbformat": 4,
 "nbformat_minor": 5
}
